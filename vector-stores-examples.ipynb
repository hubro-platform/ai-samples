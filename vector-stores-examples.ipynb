{
 "cells": [
  {
   "metadata": {},
   "cell_type": "markdown",
   "source": "# Hubro Platform - Vector store examples",
   "id": "5961545af305947d"
  },
  {
   "metadata": {},
   "cell_type": "markdown",
   "source": "Follow this example to learn how to work with vector stores at Supabase. ",
   "id": "83a24e6fc01f3ad"
  },
  {
   "metadata": {},
   "cell_type": "markdown",
   "source": "Run the following code to create a documents table and a matching function. ",
   "id": "589d1118392b3e1e"
  },
  {
   "metadata": {},
   "cell_type": "markdown",
   "source": [
    "```\n",
    "-- Enable the pgvector extension to work with embedding vectors\n",
    "create extension vector;\n",
    "\n",
    "-- Create a table to store your documents\n",
    "create table documents (\n",
    "  id text primary key,\n",
    "  content text, -- corresponds to Document.pageContent\n",
    "  metadata jsonb, -- corresponds to Document.metadata\n",
    "  embedding vector(384) -- 384 works for HF embeddings\n",
    ");\n",
    "\n",
    "create function match_documents (\n",
    "  query_embedding vector(384),\n",
    "  match_count int default null,\n",
    "  filter jsonb DEFAULT '{}'\n",
    ") returns table (\n",
    "  id text,\n",
    "  content text,\n",
    "  metadata jsonb,\n",
    "  similarity float\n",
    ")\n",
    "language plpgsql\n",
    "as $$\n",
    "#variable_conflict use_column\n",
    "begin\n",
    "  return query\n",
    "  select\n",
    "    id,\n",
    "    content,\n",
    "    metadata,\n",
    "    1 - (documents.embedding <=> query_embedding) as similarity\n",
    "  from documents\n",
    "  where metadata @> filter\n",
    "  order by documents.embedding <=> query_embedding\n",
    "  limit match_count;\n",
    "end;\n",
    "$$;\n",
    "```"
   ],
   "id": "de9f66f33225ddf3"
  },
  {
   "metadata": {
    "ExecuteTime": {
     "end_time": "2024-09-23T10:43:48.144038Z",
     "start_time": "2024-09-23T10:43:46.649470Z"
    }
   },
   "cell_type": "code",
   "source": [
    "! pip install langchain langchain_community supabase sentence-transformers\n",
    "import os\n",
    "\n",
    "os.environ['SUPABASE_URL']=\"YOUR SUPABASE URL\"\n",
    "os.environ['SUPABASE_SERVICE_KEY']=\"YOUR SUPABASE SERVICE TOKEN\""
   ],
   "id": "f9bda5b4980d5e78",
   "outputs": [
    {
     "name": "stderr",
     "output_type": "stream",
     "text": [
      "huggingface/tokenizers: The current process just got forked, after parallelism has already been used. Disabling parallelism to avoid deadlocks...\n",
      "To disable this warning, you can either:\n",
      "\t- Avoid using `tokenizers` before the fork if possible\n",
      "\t- Explicitly set the environment variable TOKENIZERS_PARALLELISM=(true | false)\n"
     ]
    },
    {
     "name": "stdout",
     "output_type": "stream",
     "text": [
      "Requirement already satisfied: openai in /opt/homebrew/anaconda3/envs/mlflow-env/lib/python3.10/site-packages (1.43.1)\r\n",
      "Requirement already satisfied: langchain in /opt/homebrew/anaconda3/envs/mlflow-env/lib/python3.10/site-packages (0.2.16)\r\n",
      "Requirement already satisfied: langchain_community in /opt/homebrew/anaconda3/envs/mlflow-env/lib/python3.10/site-packages (0.2.16)\r\n",
      "Requirement already satisfied: langchain_openai in /opt/homebrew/anaconda3/envs/mlflow-env/lib/python3.10/site-packages (0.1.23)\r\n",
      "Requirement already satisfied: replicate in /opt/homebrew/anaconda3/envs/mlflow-env/lib/python3.10/site-packages (0.32.1)\r\n",
      "Requirement already satisfied: scikit-learn in /opt/homebrew/anaconda3/envs/mlflow-env/lib/python3.10/site-packages (1.5.1)\r\n",
      "Requirement already satisfied: pandas in /opt/homebrew/anaconda3/envs/mlflow-env/lib/python3.10/site-packages (2.2.2)\r\n",
      "Requirement already satisfied: supabase in /opt/homebrew/anaconda3/envs/mlflow-env/lib/python3.10/site-packages (2.7.4)\r\n",
      "Requirement already satisfied: sentence-transformers in /opt/homebrew/anaconda3/envs/mlflow-env/lib/python3.10/site-packages (3.1.1)\r\n",
      "Requirement already satisfied: anyio<5,>=3.5.0 in /opt/homebrew/anaconda3/envs/mlflow-env/lib/python3.10/site-packages (from openai) (4.2.0)\r\n",
      "Requirement already satisfied: distro<2,>=1.7.0 in /opt/homebrew/anaconda3/envs/mlflow-env/lib/python3.10/site-packages (from openai) (1.9.0)\r\n",
      "Requirement already satisfied: httpx<1,>=0.23.0 in /opt/homebrew/anaconda3/envs/mlflow-env/lib/python3.10/site-packages (from openai) (0.27.2)\r\n",
      "Requirement already satisfied: jiter<1,>=0.4.0 in /opt/homebrew/anaconda3/envs/mlflow-env/lib/python3.10/site-packages (from openai) (0.5.0)\r\n",
      "Requirement already satisfied: pydantic<3,>=1.9.0 in /opt/homebrew/anaconda3/envs/mlflow-env/lib/python3.10/site-packages (from openai) (2.7.1)\r\n",
      "Requirement already satisfied: sniffio in /opt/homebrew/anaconda3/envs/mlflow-env/lib/python3.10/site-packages (from openai) (1.3.0)\r\n",
      "Requirement already satisfied: tqdm>4 in /opt/homebrew/anaconda3/envs/mlflow-env/lib/python3.10/site-packages (from openai) (4.66.5)\r\n",
      "Requirement already satisfied: typing-extensions<5,>=4.11 in /opt/homebrew/anaconda3/envs/mlflow-env/lib/python3.10/site-packages (from openai) (4.12.2)\r\n",
      "Requirement already satisfied: PyYAML>=5.3 in /opt/homebrew/anaconda3/envs/mlflow-env/lib/python3.10/site-packages (from langchain) (6.0.1)\r\n",
      "Requirement already satisfied: SQLAlchemy<3,>=1.4 in /opt/homebrew/anaconda3/envs/mlflow-env/lib/python3.10/site-packages (from langchain) (2.0.30)\r\n",
      "Requirement already satisfied: aiohttp<4.0.0,>=3.8.3 in /opt/homebrew/anaconda3/envs/mlflow-env/lib/python3.10/site-packages (from langchain) (3.10.5)\r\n",
      "Requirement already satisfied: async-timeout<5.0.0,>=4.0.0 in /opt/homebrew/anaconda3/envs/mlflow-env/lib/python3.10/site-packages (from langchain) (4.0.3)\r\n",
      "Requirement already satisfied: langchain-core<0.3.0,>=0.2.38 in /opt/homebrew/anaconda3/envs/mlflow-env/lib/python3.10/site-packages (from langchain) (0.2.38)\r\n",
      "Requirement already satisfied: langchain-text-splitters<0.3.0,>=0.2.0 in /opt/homebrew/anaconda3/envs/mlflow-env/lib/python3.10/site-packages (from langchain) (0.2.4)\r\n",
      "Requirement already satisfied: langsmith<0.2.0,>=0.1.17 in /opt/homebrew/anaconda3/envs/mlflow-env/lib/python3.10/site-packages (from langchain) (0.1.115)\r\n",
      "Requirement already satisfied: numpy<2,>=1 in /opt/homebrew/anaconda3/envs/mlflow-env/lib/python3.10/site-packages (from langchain) (1.26.4)\r\n",
      "Requirement already satisfied: requests<3,>=2 in /opt/homebrew/anaconda3/envs/mlflow-env/lib/python3.10/site-packages (from langchain) (2.31.0)\r\n",
      "Requirement already satisfied: tenacity!=8.4.0,<9.0.0,>=8.1.0 in /opt/homebrew/anaconda3/envs/mlflow-env/lib/python3.10/site-packages (from langchain) (8.5.0)\r\n",
      "Requirement already satisfied: dataclasses-json<0.7,>=0.5.7 in /opt/homebrew/anaconda3/envs/mlflow-env/lib/python3.10/site-packages (from langchain_community) (0.6.7)\r\n",
      "Requirement already satisfied: tiktoken<1,>=0.7 in /opt/homebrew/anaconda3/envs/mlflow-env/lib/python3.10/site-packages (from langchain_openai) (0.7.0)\r\n",
      "Requirement already satisfied: packaging in /opt/homebrew/anaconda3/envs/mlflow-env/lib/python3.10/site-packages (from replicate) (24.1)\r\n",
      "Requirement already satisfied: scipy>=1.6.0 in /opt/homebrew/anaconda3/envs/mlflow-env/lib/python3.10/site-packages (from scikit-learn) (1.13.1)\r\n",
      "Requirement already satisfied: joblib>=1.2.0 in /opt/homebrew/anaconda3/envs/mlflow-env/lib/python3.10/site-packages (from scikit-learn) (1.4.2)\r\n",
      "Requirement already satisfied: threadpoolctl>=3.1.0 in /opt/homebrew/anaconda3/envs/mlflow-env/lib/python3.10/site-packages (from scikit-learn) (3.5.0)\r\n",
      "Requirement already satisfied: python-dateutil>=2.8.2 in /opt/homebrew/anaconda3/envs/mlflow-env/lib/python3.10/site-packages (from pandas) (2.9.0)\r\n",
      "Requirement already satisfied: pytz>=2020.1 in /opt/homebrew/anaconda3/envs/mlflow-env/lib/python3.10/site-packages (from pandas) (2024.1)\r\n",
      "Requirement already satisfied: tzdata>=2022.7 in /opt/homebrew/anaconda3/envs/mlflow-env/lib/python3.10/site-packages (from pandas) (2024.1)\r\n",
      "Requirement already satisfied: gotrue<3.0,>=1.3 in /opt/homebrew/anaconda3/envs/mlflow-env/lib/python3.10/site-packages (from supabase) (2.8.1)\r\n",
      "Requirement already satisfied: postgrest<0.17.0,>=0.14 in /opt/homebrew/anaconda3/envs/mlflow-env/lib/python3.10/site-packages (from supabase) (0.16.11)\r\n",
      "Requirement already satisfied: realtime<3.0.0,>=2.0.0 in /opt/homebrew/anaconda3/envs/mlflow-env/lib/python3.10/site-packages (from supabase) (2.0.2)\r\n",
      "Requirement already satisfied: storage3<0.8.0,>=0.5.3 in /opt/homebrew/anaconda3/envs/mlflow-env/lib/python3.10/site-packages (from supabase) (0.7.7)\r\n",
      "Requirement already satisfied: supafunc<0.6.0,>=0.3.1 in /opt/homebrew/anaconda3/envs/mlflow-env/lib/python3.10/site-packages (from supabase) (0.5.1)\r\n",
      "Requirement already satisfied: transformers<5.0.0,>=4.38.0 in /opt/homebrew/anaconda3/envs/mlflow-env/lib/python3.10/site-packages (from sentence-transformers) (4.44.2)\r\n",
      "Requirement already satisfied: torch>=1.11.0 in /opt/homebrew/anaconda3/envs/mlflow-env/lib/python3.10/site-packages (from sentence-transformers) (2.4.1)\r\n",
      "Requirement already satisfied: huggingface-hub>=0.19.3 in /opt/homebrew/anaconda3/envs/mlflow-env/lib/python3.10/site-packages (from sentence-transformers) (0.25.0)\r\n",
      "Requirement already satisfied: Pillow in /opt/homebrew/anaconda3/envs/mlflow-env/lib/python3.10/site-packages (from sentence-transformers) (10.4.0)\r\n",
      "Requirement already satisfied: aiohappyeyeballs>=2.3.0 in /opt/homebrew/anaconda3/envs/mlflow-env/lib/python3.10/site-packages (from aiohttp<4.0.0,>=3.8.3->langchain) (2.4.0)\r\n",
      "Requirement already satisfied: aiosignal>=1.1.2 in /opt/homebrew/anaconda3/envs/mlflow-env/lib/python3.10/site-packages (from aiohttp<4.0.0,>=3.8.3->langchain) (1.2.0)\r\n",
      "Requirement already satisfied: attrs>=17.3.0 in /opt/homebrew/anaconda3/envs/mlflow-env/lib/python3.10/site-packages (from aiohttp<4.0.0,>=3.8.3->langchain) (23.1.0)\r\n",
      "Requirement already satisfied: frozenlist>=1.1.1 in /opt/homebrew/anaconda3/envs/mlflow-env/lib/python3.10/site-packages (from aiohttp<4.0.0,>=3.8.3->langchain) (1.4.0)\r\n",
      "Requirement already satisfied: multidict<7.0,>=4.5 in /opt/homebrew/anaconda3/envs/mlflow-env/lib/python3.10/site-packages (from aiohttp<4.0.0,>=3.8.3->langchain) (6.0.4)\r\n",
      "Requirement already satisfied: yarl<2.0,>=1.0 in /opt/homebrew/anaconda3/envs/mlflow-env/lib/python3.10/site-packages (from aiohttp<4.0.0,>=3.8.3->langchain) (1.9.3)\r\n",
      "Requirement already satisfied: idna>=2.8 in /opt/homebrew/anaconda3/envs/mlflow-env/lib/python3.10/site-packages (from anyio<5,>=3.5.0->openai) (3.7)\r\n",
      "Requirement already satisfied: exceptiongroup>=1.0.2 in /opt/homebrew/anaconda3/envs/mlflow-env/lib/python3.10/site-packages (from anyio<5,>=3.5.0->openai) (1.2.0)\r\n",
      "Requirement already satisfied: marshmallow<4.0.0,>=3.18.0 in /opt/homebrew/anaconda3/envs/mlflow-env/lib/python3.10/site-packages (from dataclasses-json<0.7,>=0.5.7->langchain_community) (3.22.0)\r\n",
      "Requirement already satisfied: typing-inspect<1,>=0.4.0 in /opt/homebrew/anaconda3/envs/mlflow-env/lib/python3.10/site-packages (from dataclasses-json<0.7,>=0.5.7->langchain_community) (0.9.0)\r\n",
      "Requirement already satisfied: certifi in /opt/homebrew/anaconda3/envs/mlflow-env/lib/python3.10/site-packages (from httpx<1,>=0.23.0->openai) (2024.8.30)\r\n",
      "Requirement already satisfied: httpcore==1.* in /opt/homebrew/anaconda3/envs/mlflow-env/lib/python3.10/site-packages (from httpx<1,>=0.23.0->openai) (1.0.5)\r\n",
      "Requirement already satisfied: h11<0.15,>=0.13 in /opt/homebrew/anaconda3/envs/mlflow-env/lib/python3.10/site-packages (from httpcore==1.*->httpx<1,>=0.23.0->openai) (0.14.0)\r\n",
      "Requirement already satisfied: filelock in /opt/homebrew/anaconda3/envs/mlflow-env/lib/python3.10/site-packages (from huggingface-hub>=0.19.3->sentence-transformers) (3.13.1)\r\n",
      "Requirement already satisfied: fsspec>=2023.5.0 in /opt/homebrew/anaconda3/envs/mlflow-env/lib/python3.10/site-packages (from huggingface-hub>=0.19.3->sentence-transformers) (2024.9.0)\r\n",
      "Requirement already satisfied: jsonpatch<2.0,>=1.33 in /opt/homebrew/anaconda3/envs/mlflow-env/lib/python3.10/site-packages (from langchain-core<0.3.0,>=0.2.38->langchain) (1.33)\r\n",
      "Requirement already satisfied: orjson<4.0.0,>=3.9.14 in /opt/homebrew/anaconda3/envs/mlflow-env/lib/python3.10/site-packages (from langsmith<0.2.0,>=0.1.17->langchain) (3.10.7)\r\n",
      "Requirement already satisfied: deprecation<3.0.0,>=2.1.0 in /opt/homebrew/anaconda3/envs/mlflow-env/lib/python3.10/site-packages (from postgrest<0.17.0,>=0.14->supabase) (2.1.0)\r\n",
      "Requirement already satisfied: strenum<0.5.0,>=0.4.9 in /opt/homebrew/anaconda3/envs/mlflow-env/lib/python3.10/site-packages (from postgrest<0.17.0,>=0.14->supabase) (0.4.15)\r\n",
      "Requirement already satisfied: annotated-types>=0.4.0 in /opt/homebrew/anaconda3/envs/mlflow-env/lib/python3.10/site-packages (from pydantic<3,>=1.9.0->openai) (0.7.0)\r\n",
      "Requirement already satisfied: pydantic-core==2.18.2 in /opt/homebrew/anaconda3/envs/mlflow-env/lib/python3.10/site-packages (from pydantic<3,>=1.9.0->openai) (2.18.2)\r\n",
      "Requirement already satisfied: six>=1.5 in /opt/homebrew/anaconda3/envs/mlflow-env/lib/python3.10/site-packages (from python-dateutil>=2.8.2->pandas) (1.16.0)\r\n",
      "Requirement already satisfied: websockets<13,>=11 in /opt/homebrew/anaconda3/envs/mlflow-env/lib/python3.10/site-packages (from realtime<3.0.0,>=2.0.0->supabase) (12.0)\r\n",
      "Requirement already satisfied: charset-normalizer<4,>=2 in /opt/homebrew/anaconda3/envs/mlflow-env/lib/python3.10/site-packages (from requests<3,>=2->langchain) (3.3.2)\r\n",
      "Requirement already satisfied: urllib3<3,>=1.21.1 in /opt/homebrew/anaconda3/envs/mlflow-env/lib/python3.10/site-packages (from requests<3,>=2->langchain) (2.2.2)\r\n",
      "Requirement already satisfied: regex>=2022.1.18 in /opt/homebrew/anaconda3/envs/mlflow-env/lib/python3.10/site-packages (from tiktoken<1,>=0.7->langchain_openai) (2024.7.24)\r\n",
      "Requirement already satisfied: sympy in /opt/homebrew/anaconda3/envs/mlflow-env/lib/python3.10/site-packages (from torch>=1.11.0->sentence-transformers) (1.13.3)\r\n",
      "Requirement already satisfied: networkx in /opt/homebrew/anaconda3/envs/mlflow-env/lib/python3.10/site-packages (from torch>=1.11.0->sentence-transformers) (3.3)\r\n",
      "Requirement already satisfied: jinja2 in /opt/homebrew/anaconda3/envs/mlflow-env/lib/python3.10/site-packages (from torch>=1.11.0->sentence-transformers) (3.1.4)\r\n",
      "Requirement already satisfied: safetensors>=0.4.1 in /opt/homebrew/anaconda3/envs/mlflow-env/lib/python3.10/site-packages (from transformers<5.0.0,>=4.38.0->sentence-transformers) (0.4.5)\r\n",
      "Requirement already satisfied: tokenizers<0.20,>=0.19 in /opt/homebrew/anaconda3/envs/mlflow-env/lib/python3.10/site-packages (from transformers<5.0.0,>=4.38.0->sentence-transformers) (0.19.1)\r\n",
      "Requirement already satisfied: h2<5,>=3 in /opt/homebrew/anaconda3/envs/mlflow-env/lib/python3.10/site-packages (from httpx[http2]<0.28,>=0.24->gotrue<3.0,>=1.3->supabase) (4.1.0)\r\n",
      "Requirement already satisfied: jsonpointer>=1.9 in /opt/homebrew/anaconda3/envs/mlflow-env/lib/python3.10/site-packages (from jsonpatch<2.0,>=1.33->langchain-core<0.3.0,>=0.2.38->langchain) (3.0.0)\r\n",
      "Requirement already satisfied: mypy-extensions>=0.3.0 in /opt/homebrew/anaconda3/envs/mlflow-env/lib/python3.10/site-packages (from typing-inspect<1,>=0.4.0->dataclasses-json<0.7,>=0.5.7->langchain_community) (1.0.0)\r\n",
      "Requirement already satisfied: MarkupSafe>=2.0 in /opt/homebrew/anaconda3/envs/mlflow-env/lib/python3.10/site-packages (from jinja2->torch>=1.11.0->sentence-transformers) (2.1.3)\r\n",
      "Requirement already satisfied: mpmath<1.4,>=1.1.0 in /opt/homebrew/anaconda3/envs/mlflow-env/lib/python3.10/site-packages (from sympy->torch>=1.11.0->sentence-transformers) (1.3.0)\r\n",
      "Requirement already satisfied: hyperframe<7,>=6.0 in /opt/homebrew/anaconda3/envs/mlflow-env/lib/python3.10/site-packages (from h2<5,>=3->httpx[http2]<0.28,>=0.24->gotrue<3.0,>=1.3->supabase) (6.0.1)\r\n",
      "Requirement already satisfied: hpack<5,>=4.0 in /opt/homebrew/anaconda3/envs/mlflow-env/lib/python3.10/site-packages (from h2<5,>=3->httpx[http2]<0.28,>=0.24->gotrue<3.0,>=1.3->supabase) (4.0.0)\r\n"
     ]
    }
   ],
   "execution_count": 28
  },
  {
   "cell_type": "code",
   "id": "initial_id",
   "metadata": {
    "collapsed": true,
    "ExecuteTime": {
     "end_time": "2024-09-23T10:38:21.253711Z",
     "start_time": "2024-09-23T10:38:21.217314Z"
    }
   },
   "source": [
    "import os\n",
    "\n",
    "from langchain_community.vectorstores import SupabaseVectorStore\n",
    "from langchain_openai import OpenAIEmbeddings\n",
    "from supabase.client import Client, create_client\n",
    "from langchain_community.document_loaders import TextLoader\n",
    "from langchain_text_splitters import CharacterTextSplitter\n",
    "\n",
    "supabase_url = os.environ.get(\"SUPABASE_URL\")\n",
    "supabase_key = os.environ.get(\"SUPABASE_SERVICE_KEY\")\n",
    "supabase: Client = create_client(supabase_url, supabase_key)\n"
   ],
   "outputs": [],
   "execution_count": 22
  },
  {
   "metadata": {
    "ExecuteTime": {
     "end_time": "2024-09-23T10:38:33.823763Z",
     "start_time": "2024-09-23T10:38:28.162165Z"
    }
   },
   "cell_type": "code",
   "source": [
    "from langchain_community.embeddings import HuggingFaceEmbeddings\n",
    "\n",
    "model_name = \"thenlper/gte-small\"\n",
    "model_kwargs = {'device': 'cpu'}\n",
    "encode_kwargs = {'normalize_embeddings': False}\n",
    "hf = HuggingFaceEmbeddings(\n",
    "    model_name=model_name,\n",
    "    model_kwargs=model_kwargs,\n",
    "    encode_kwargs=encode_kwargs\n",
    ")\n"
   ],
   "id": "c5213c2dc559a28f",
   "outputs": [],
   "execution_count": 23
  },
  {
   "metadata": {
    "ExecuteTime": {
     "end_time": "2024-09-23T10:38:37.252721Z",
     "start_time": "2024-09-23T10:38:37.247589Z"
    }
   },
   "cell_type": "code",
   "source": [
    "loader = TextLoader(\"./state_of_the_union.txt\")\n",
    "documents = loader.load()\n",
    "text_splitter = CharacterTextSplitter(chunk_size=1000, chunk_overlap=0)\n",
    "docs = text_splitter.split_documents(documents)"
   ],
   "id": "28cbfb09f4e45fee",
   "outputs": [],
   "execution_count": 24
  },
  {
   "metadata": {
    "ExecuteTime": {
     "end_time": "2024-09-23T10:56:42.239810Z",
     "start_time": "2024-09-23T10:56:40.720364Z"
    }
   },
   "cell_type": "code",
   "source": [
    "vector_store = SupabaseVectorStore.from_documents(\n",
    "    docs,\n",
    "    hf,\n",
    "    client=supabase,\n",
    "    table_name=\"documents\",\n",
    "    query_name=\"match_documents\",\n",
    "    chunk_size=500,\n",
    ")"
   ],
   "id": "ed06dee431bb6cb0",
   "outputs": [],
   "execution_count": 33
  },
  {
   "metadata": {
    "ExecuteTime": {
     "end_time": "2024-09-23T10:56:49.055587Z",
     "start_time": "2024-09-23T10:56:48.801222Z"
    }
   },
   "cell_type": "code",
   "source": [
    "query = \"What did the president say about Ketanji Brown Jackson\"\n",
    "matched_docs = vector_store.similarity_search(query)\n",
    "\n",
    "print(matched_docs[0].page_content)"
   ],
   "id": "5611c8347bce0d10",
   "outputs": [
    {
     "name": "stdout",
     "output_type": "stream",
     "text": [
      "Tonight. I call on the Senate to: Pass the Freedom to Vote Act. Pass the John Lewis Voting Rights Act. And while you’re at it, pass the Disclose Act so Americans can know who is funding our elections. \n",
      "\n",
      "Tonight, I’d like to honor someone who has dedicated his life to serve this country: Justice Stephen Breyer—an Army veteran, Constitutional scholar, and retiring Justice of the United States Supreme Court. Justice Breyer, thank you for your service. \n",
      "\n",
      "One of the most serious constitutional responsibilities a President has is nominating someone to serve on the United States Supreme Court. \n",
      "\n",
      "And I did that 4 days ago, when I nominated Circuit Court of Appeals Judge Ketanji Brown Jackson. One of our nation’s top legal minds, who will continue Justice Breyer’s legacy of excellence.\n"
     ]
    }
   ],
   "execution_count": 34
  },
  {
   "metadata": {},
   "cell_type": "code",
   "outputs": [],
   "execution_count": null,
   "source": "",
   "id": "e5369e91e50538dc"
  }
 ],
 "metadata": {
  "kernelspec": {
   "display_name": "Python 3",
   "language": "python",
   "name": "python3"
  },
  "language_info": {
   "codemirror_mode": {
    "name": "ipython",
    "version": 2
   },
   "file_extension": ".py",
   "mimetype": "text/x-python",
   "name": "python",
   "nbconvert_exporter": "python",
   "pygments_lexer": "ipython2",
   "version": "2.7.6"
  }
 },
 "nbformat": 4,
 "nbformat_minor": 5
}
